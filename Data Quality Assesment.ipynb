{
 "cells": [
  {
   "cell_type": "markdown",
   "metadata": {},
   "source": [
    "## Historical Analysis Versioned Datasets\n",
    "---"
   ]
  },
  {
   "cell_type": "markdown",
   "metadata": {},
   "source": [
    "The propose of the analysis is to track the performnce of the valid information among the datasets on a linked data schema, to aim this we need a data quality assesment tool, and with the help of computational metrics to accomplish it"
   ]
  },
  {
   "cell_type": "code",
   "execution_count": 1,
   "metadata": {},
   "outputs": [],
   "source": [
    "import pandas as pd\n",
    "import numpy as np\n",
    "import matplotlib.pyplot as plt\n",
    "import plotly.plotly as py\n",
    "import plotly.graph_objs as go\n",
    "%matplotlib inline"
   ]
  },
  {
   "cell_type": "code",
   "execution_count": 2,
   "metadata": {},
   "outputs": [
    {
     "name": "stdout",
     "output_type": "stream",
     "text": [
      "kegg-drug.ttl         metricts-tracking.csv\r\n"
     ]
    }
   ],
   "source": [
    "!ls data/Input/"
   ]
  },
  {
   "cell_type": "code",
   "execution_count": 3,
   "metadata": {},
   "outputs": [],
   "source": [
    "df_metrics = pd.read_csv('data/Input/metricts-tracking.csv', sep=';')"
   ]
  },
  {
   "cell_type": "code",
   "execution_count": 4,
   "metadata": {},
   "outputs": [
    {
     "data": {
      "text/html": [
       "<div>\n",
       "<style>\n",
       "    .dataframe thead tr:only-child th {\n",
       "        text-align: right;\n",
       "    }\n",
       "\n",
       "    .dataframe thead th {\n",
       "        text-align: left;\n",
       "    }\n",
       "\n",
       "    .dataframe tbody tr th {\n",
       "        vertical-align: top;\n",
       "    }\n",
       "</style>\n",
       "<table border=\"1\" class=\"dataframe\">\n",
       "  <thead>\n",
       "    <tr style=\"text-align: right;\">\n",
       "      <th></th>\n",
       "      <th>id</th>\n",
       "      <th>dataset</th>\n",
       "      <th>test-execution</th>\n",
       "      <th>succeeded</th>\n",
       "      <th>failed</th>\n",
       "      <th>violation-instances</th>\n",
       "      <th>violation-type</th>\n",
       "      <th>version-number</th>\n",
       "    </tr>\n",
       "  </thead>\n",
       "  <tbody>\n",
       "    <tr>\n",
       "      <th>0</th>\n",
       "      <td>1</td>\n",
       "      <td>https://biosharing.org/biodbcore-000037</td>\n",
       "      <td>10</td>\n",
       "      <td>214</td>\n",
       "      <td>31,63</td>\n",
       "      <td>3157</td>\n",
       "      <td>contains-literal</td>\n",
       "      <td>1</td>\n",
       "    </tr>\n",
       "    <tr>\n",
       "      <th>1</th>\n",
       "      <td>2</td>\n",
       "      <td>https://biosharing.org/biodbcore-000081</td>\n",
       "      <td>7</td>\n",
       "      <td>281</td>\n",
       "      <td>36,23</td>\n",
       "      <td>2992</td>\n",
       "      <td>contains-literal</td>\n",
       "      <td>1</td>\n",
       "    </tr>\n",
       "    <tr>\n",
       "      <th>2</th>\n",
       "      <td>3</td>\n",
       "      <td>https://biosharing.org/biodbcore-000095</td>\n",
       "      <td>4</td>\n",
       "      <td>232</td>\n",
       "      <td>34,57</td>\n",
       "      <td>3310</td>\n",
       "      <td>contains-literal</td>\n",
       "      <td>1</td>\n",
       "    </tr>\n",
       "    <tr>\n",
       "      <th>3</th>\n",
       "      <td>4</td>\n",
       "      <td>https://biosharing.org/biodbcore-000104</td>\n",
       "      <td>8</td>\n",
       "      <td>183</td>\n",
       "      <td>27,81</td>\n",
       "      <td>3027</td>\n",
       "      <td>contains-literal</td>\n",
       "      <td>1</td>\n",
       "    </tr>\n",
       "    <tr>\n",
       "      <th>4</th>\n",
       "      <td>5</td>\n",
       "      <td>https://biosharing.org/biodbcore-000137</td>\n",
       "      <td>8</td>\n",
       "      <td>252</td>\n",
       "      <td>18,85</td>\n",
       "      <td>3513</td>\n",
       "      <td>different-domain</td>\n",
       "      <td>1</td>\n",
       "    </tr>\n",
       "    <tr>\n",
       "      <th>5</th>\n",
       "      <td>6</td>\n",
       "      <td>https://biosharing.org/biodbcore-000155</td>\n",
       "      <td>9</td>\n",
       "      <td>263</td>\n",
       "      <td>2,64</td>\n",
       "      <td>2883</td>\n",
       "      <td>onto-not-match</td>\n",
       "      <td>1</td>\n",
       "    </tr>\n",
       "    <tr>\n",
       "      <th>6</th>\n",
       "      <td>7</td>\n",
       "      <td>https://biosharing.org/biodbcore-000156</td>\n",
       "      <td>1</td>\n",
       "      <td>214</td>\n",
       "      <td>37,21</td>\n",
       "      <td>3105</td>\n",
       "      <td>onto-not-match</td>\n",
       "      <td>1</td>\n",
       "    </tr>\n",
       "    <tr>\n",
       "      <th>7</th>\n",
       "      <td>8</td>\n",
       "      <td>https://biosharing.org/biodbcore-000173</td>\n",
       "      <td>2</td>\n",
       "      <td>146</td>\n",
       "      <td>23,6</td>\n",
       "      <td>2763</td>\n",
       "      <td>different-domain</td>\n",
       "      <td>1</td>\n",
       "    </tr>\n",
       "    <tr>\n",
       "      <th>8</th>\n",
       "      <td>9</td>\n",
       "      <td>https://biosharing.org/biodbcore-000304</td>\n",
       "      <td>8</td>\n",
       "      <td>222</td>\n",
       "      <td>21,26</td>\n",
       "      <td>3087</td>\n",
       "      <td>contains-literal</td>\n",
       "      <td>1</td>\n",
       "    </tr>\n",
       "    <tr>\n",
       "      <th>9</th>\n",
       "      <td>10</td>\n",
       "      <td>https://biosharing.org/biodbcore-000329</td>\n",
       "      <td>9</td>\n",
       "      <td>236</td>\n",
       "      <td>35,65</td>\n",
       "      <td>2835</td>\n",
       "      <td>contains-literal</td>\n",
       "      <td>1</td>\n",
       "    </tr>\n",
       "  </tbody>\n",
       "</table>\n",
       "</div>"
      ],
      "text/plain": [
       "   id                                  dataset  test-execution  succeeded  \\\n",
       "0   1  https://biosharing.org/biodbcore-000037              10        214   \n",
       "1   2  https://biosharing.org/biodbcore-000081               7        281   \n",
       "2   3  https://biosharing.org/biodbcore-000095               4        232   \n",
       "3   4  https://biosharing.org/biodbcore-000104               8        183   \n",
       "4   5  https://biosharing.org/biodbcore-000137               8        252   \n",
       "5   6  https://biosharing.org/biodbcore-000155               9        263   \n",
       "6   7  https://biosharing.org/biodbcore-000156               1        214   \n",
       "7   8  https://biosharing.org/biodbcore-000173               2        146   \n",
       "8   9  https://biosharing.org/biodbcore-000304               8        222   \n",
       "9  10  https://biosharing.org/biodbcore-000329               9        236   \n",
       "\n",
       "  failed  violation-instances    violation-type  version-number  \n",
       "0  31,63                 3157  contains-literal               1  \n",
       "1  36,23                 2992  contains-literal               1  \n",
       "2  34,57                 3310  contains-literal               1  \n",
       "3  27,81                 3027  contains-literal               1  \n",
       "4  18,85                 3513  different-domain               1  \n",
       "5   2,64                 2883    onto-not-match               1  \n",
       "6  37,21                 3105    onto-not-match               1  \n",
       "7   23,6                 2763  different-domain               1  \n",
       "8  21,26                 3087  contains-literal               1  \n",
       "9  35,65                 2835  contains-literal               1  "
      ]
     },
     "execution_count": 4,
     "metadata": {},
     "output_type": "execute_result"
    }
   ],
   "source": [
    "df_metrics.head(10)"
   ]
  },
  {
   "cell_type": "code",
   "execution_count": 5,
   "metadata": {},
   "outputs": [
    {
     "data": {
      "text/html": [
       "<div>\n",
       "<style>\n",
       "    .dataframe thead tr:only-child th {\n",
       "        text-align: right;\n",
       "    }\n",
       "\n",
       "    .dataframe thead th {\n",
       "        text-align: left;\n",
       "    }\n",
       "\n",
       "    .dataframe tbody tr th {\n",
       "        vertical-align: top;\n",
       "    }\n",
       "</style>\n",
       "<table border=\"1\" class=\"dataframe\">\n",
       "  <thead>\n",
       "    <tr style=\"text-align: right;\">\n",
       "      <th>violation-type</th>\n",
       "      <th>contains-literal</th>\n",
       "      <th>different-domain</th>\n",
       "      <th>onto-not-match</th>\n",
       "    </tr>\n",
       "  </thead>\n",
       "  <tbody>\n",
       "    <tr>\n",
       "      <th>violation-instances</th>\n",
       "      <td>2479.125000</td>\n",
       "      <td>2254.606557</td>\n",
       "      <td>2335.093333</td>\n",
       "    </tr>\n",
       "    <tr>\n",
       "      <th>version-number</th>\n",
       "      <td>4.953125</td>\n",
       "      <td>6.032787</td>\n",
       "      <td>5.800000</td>\n",
       "    </tr>\n",
       "  </tbody>\n",
       "</table>\n",
       "</div>"
      ],
      "text/plain": [
       "violation-type       contains-literal  different-domain  onto-not-match\n",
       "violation-instances       2479.125000       2254.606557     2335.093333\n",
       "version-number               4.953125          6.032787        5.800000"
      ]
     },
     "execution_count": 5,
     "metadata": {},
     "output_type": "execute_result"
    }
   ],
   "source": [
    "df_metrics.groupby('violation-type').mean()[['violation-instances','version-number']].transpose()"
   ]
  },
  {
   "cell_type": "code",
   "execution_count": 6,
   "metadata": {},
   "outputs": [],
   "source": [
    "datasets = df_metrics['dataset'].unique()"
   ]
  },
  {
   "cell_type": "code",
   "execution_count": 7,
   "metadata": {},
   "outputs": [
    {
     "data": {
      "image/png": "[encoded data removed]",
      "text/plain": [
       "<matplotlib.figure.Figure at 0x10f9d5cf8>"
      ]
     },
     "metadata": {},
     "output_type": "display_data"
    }
   ],
   "source": [
    "plt.figure(figsize=[14, 6])\n",
    "for i in datasets:\n",
    "    df_uniq = df_metrics[df_metrics['dataset'] == str(i)]\n",
    "    plt.bar(df_uniq['version-number'], df_uniq['violation-instances'])"
   ]
  },
  {
   "cell_type": "code",
   "execution_count": 8,
   "metadata": {},
   "outputs": [
    {
     "data": {
      "text/html": [
       "<iframe id=\"igraph\" scrolling=\"no\" style=\"border:none;\" seamless=\"seamless\" src=\"https://plot.ly/~pedrohserrano/50.embed\" height=\"525px\" width=\"100%\"></iframe>"
      ],
      "text/plain": [
       "<plotly.tools.PlotlyDisplay object>"
      ]
     },
     "execution_count": 8,
     "metadata": {},
     "output_type": "execute_result"
    }
   ],
   "source": [
    "trace11 = go.Scatter(\n",
    "    x = df_metrics[df_metrics['dataset'] == 'https://biosharing.org/biodbcore-000037']['version-number'],\n",
    "    y = df_metrics[df_metrics['dataset'] == 'https://biosharing.org/biodbcore-000037']['violation-instances'],\n",
    "    mode = 'lines+markers',\n",
    "    name = 'biodbcore-000037'\n",
    ")\n",
    "trace12 = go.Scatter(\n",
    "    x = df_metrics[df_metrics['dataset'] == 'https://biosharing.org/biodbcore-000081']['version-number'],\n",
    "    y = df_metrics[df_metrics['dataset'] == 'https://biosharing.org/biodbcore-000081']['violation-instances'],\n",
    "    mode = 'lines+markers',\n",
    "    name = 'biodbcore-000081'\n",
    ")\n",
    "trace13 = go.Scatter(\n",
    "    x = df_metrics[df_metrics['dataset'] == 'https://biosharing.org/biodbcore-000095']['version-number'],\n",
    "    y = df_metrics[df_metrics['dataset'] == 'https://biosharing.org/biodbcore-000095']['violation-instances'],\n",
    "    mode = 'lines+markers',\n",
    "    name = 'biodbcore-000095'\n",
    ")\n",
    "data = [trace11, trace12, trace13]\n",
    "title = 'Main Source for News'\n",
    "\n",
    "layout = dict(title = 'Tracking Versioned Datasets',\n",
    "              xaxis = dict(title = 'Version Number'),\n",
    "              yaxis = dict(title = 'Number of Violation Instances'),\n",
    "              )\n",
    "\n",
    "fig = dict(data=data, layout=layout)\n",
    "py.iplot(fig, filename='styled-line')\n",
    "#py.iplot(data, filename='line-mode')"
   ]
  },
  {
   "cell_type": "code",
   "execution_count": null,
   "metadata": {},
   "outputs": [],
   "source": []
  }
 ],
 "metadata": {
  "kernelspec": {
   "display_name": "Python 3",
   "language": "python",
   "name": "python3"
  },
  "language_info": {
   "codemirror_mode": {
    "name": "ipython",
    "version": 3
   },
   "file_extension": ".py",
   "mimetype": "text/x-python",
   "name": "python",
   "nbconvert_exporter": "python",
   "pygments_lexer": "ipython3",
   "version": "3.4.2"
  }
 },
 "nbformat": 4,
 "nbformat_minor": 2
}
