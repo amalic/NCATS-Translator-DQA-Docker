{
 "cells": [
  {
   "cell_type": "code",
   "execution_count": 1,
   "metadata": {},
   "outputs": [
    {
     "name": "stdout",
     "output_type": "stream",
     "text": [
      "Dockerfile              Untitled.ipynb          \u001b[31mentrypoint.sh\u001b[m\u001b[m\r\n",
      "README.md               \u001b[31mdata_quality_usecase.sh\u001b[m\u001b[m \u001b[31mgraphdb\u001b[m\u001b[m\r\n"
     ]
    }
   ],
   "source": [
    "!ls"
   ]
  },
  {
   "cell_type": "code",
   "execution_count": 14,
   "metadata": {},
   "outputs": [],
   "source": [
    "!export PYTHONPATH=$PYTHONPATH:/Users/pedrohserrano/NCATS-Translator-DQA"
   ]
  },
  {
   "cell_type": "code",
   "execution_count": 8,
   "metadata": {},
   "outputs": [
    {
     "name": "stdout",
     "output_type": "stream",
     "text": [
      "/bin/sh: PYTHONPATH: command not found\r\n"
     ]
    }
   ],
   "source": [
    "!PYTHONPATH"
   ]
  },
  {
   "cell_type": "code",
   "execution_count": 15,
   "metadata": {},
   "outputs": [
    {
     "name": "stdout",
     "output_type": "stream",
     "text": [
      "Traceback (most recent call last):\r\n",
      "  File \"../NCATS-Translator-DQA/ncats_translator_dqa/translator_dqa.py\", line 7, in <module>\r\n",
      "    from ncats_translator_dqa import config\r\n",
      "ImportError: No module named 'ncats_translator_dqa'\r\n"
     ]
    }
   ],
   "source": [
    "!python ../NCATS-Translator-DQA/ncats_translator_dqa/translator_dqa.py -h"
   ]
  },
  {
   "cell_type": "code",
   "execution_count": 12,
   "metadata": {},
   "outputs": [
    {
     "name": "stdout",
     "output_type": "stream",
     "text": [
      "Dockerfile              Untitled.ipynb          \u001b[31mentrypoint.sh\u001b[m\u001b[m\r\n",
      "README.md               \u001b[31mdata_quality_usecase.sh\u001b[m\u001b[m \u001b[31mgraphdb\u001b[m\u001b[m\r\n"
     ]
    }
   ],
   "source": [
    "!ls"
   ]
  },
  {
   "cell_type": "code",
   "execution_count": 16,
   "metadata": {},
   "outputs": [
    {
     "name": "stdout",
     "output_type": "stream",
     "text": [
      "/Users/pedrohserrano/.pyenv/versions/3.4.2\n"
     ]
    }
   ],
   "source": [
    "import sys\n",
    "print (sys.prefix)"
   ]
  },
  {
   "cell_type": "code",
   "execution_count": null,
   "metadata": {},
   "outputs": [],
   "source": []
  }
 ],
 "metadata": {
  "kernelspec": {
   "display_name": "Python 3",
   "language": "python",
   "name": "python3"
  },
  "language_info": {
   "codemirror_mode": {
    "name": "ipython",
    "version": 3
   },
   "file_extension": ".py",
   "mimetype": "text/x-python",
   "name": "python",
   "nbconvert_exporter": "python",
   "pygments_lexer": "ipython3",
   "version": "3.4.2"
  }
 },
 "nbformat": 4,
 "nbformat_minor": 2
}
